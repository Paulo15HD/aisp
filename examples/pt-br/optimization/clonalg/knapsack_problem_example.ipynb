{
 "cells": [
  {
   "cell_type": "markdown",
   "id": "2349a886",
   "metadata": {},
   "source": [
    "# Otimização com o Algoritmo de Seleção Clonal (CLONALG)\n",
    "\n",
    "## 1. Introdução\n",
    "\n",
    "### Knapsack Problem Example\n",
    "\n",
    "Neste notebook, aplica o ClonAlg ao **Problema da Mochila (Knapsack Problem)** \n",
    "usando algoritmos de otimização do pacote AISP.\n",
    "\n",
    "O problema consiste em escolher itens com valores e pesos, de modo a maximizar o valor total \n",
    "sem ultrapassar a capacidade da mochila."
   ]
  },
  {
   "cell_type": "markdown",
   "id": "2418305f",
   "metadata": {},
   "source": [
    "## 2. Configuração\n",
    "\n",
    "### Instalação das bibliotecas necessários."
   ]
  },
  {
   "cell_type": "code",
   "execution_count": null,
   "id": "ab1034a4",
   "metadata": {},
   "outputs": [],
   "source": [
    "%pip install matplotlib\n",
    "%pip install aisp"
   ]
  },
  {
   "cell_type": "markdown",
   "id": "812ff7a7",
   "metadata": {},
   "source": [
    "### Importação das bibliotecas necessárias"
   ]
  },
  {
   "cell_type": "code",
   "execution_count": null,
   "id": "059cc8e6",
   "metadata": {},
   "outputs": [],
   "source": [
    "# Importando o Algoritmo de Seleção Clonal (CLONALG)\n",
    "from aisp.csa import Clonalg\n",
    "\n",
    "# Bibliotecas para manipulação de dados e cálculos numéricos\n",
    "import numpy as np\n",
    "from itertools import product\n",
    "\n",
    "# Visualização de dados\n",
    "import matplotlib.pyplot as plt"
   ]
  },
  {
   "cell_type": "markdown",
   "id": "015693a7",
   "metadata": {},
   "source": [
    "## 3. Definição do problema\n",
    "\n",
    "Cria 20 itens, cada um com um peso e um valor, considerando uma mochila com capacidade de 435, e defina a função ``knapsack_fitness``, que será passada para o **Clonalg** a fim de avaliar a afinidade dos anticorpos."
   ]
  },
  {
   "cell_type": "code",
   "execution_count": 2,
   "id": "5117a4a9",
   "metadata": {},
   "outputs": [
    {
     "name": "stdout",
     "output_type": "stream",
     "text": [
      "Pesos: [99, 98, 99, 44, 25, 94, 19, 33, 22, 39, 58, 20, 82, 32, 81, 38, 82, 97, 97, 33]\n",
      "Valores: [322, 276, 202, 344, 459, 446, 359, 446, 307, 370, 482, 364, 118, 395, 396, 189, 447, 168, 416, 449]\n",
      "Capacidade: 435\n"
     ]
    }
   ],
   "source": [
    "rng = np.random.default_rng(1234)\n",
    "\n",
    "n_items = 20\n",
    "weights = rng.integers(10, 101, size=n_items).tolist()\n",
    "values = rng.integers(100, 501, size=n_items).tolist()\n",
    "\n",
    "capacity = 435\n",
    "\n",
    "\n",
    "# Função de fitness\n",
    "def knapsack_fitness(solution):\n",
    "    total_weight = np.sum(weights * solution)\n",
    "    total_value = np.sum(values * solution)\n",
    "    \n",
    "    # Se exceder a capacidade, aplicar penalidade\n",
    "    if total_weight > capacity:\n",
    "        excess = total_weight - capacity\n",
    "        penalty = -excess * np.max(values) * 2\n",
    "        return total_value + penalty\n",
    "    \n",
    "    return total_value\n",
    "\n",
    "print(\"Pesos:\", weights)\n",
    "print(\"Valores:\", values)\n",
    "print(\"Capacidade:\", capacity)"
   ]
  },
  {
   "cell_type": "markdown",
   "id": "8c4d7d50",
   "metadata": {},
   "source": [
    "## 4. Configuração do algoritmo"
   ]
  },
  {
   "cell_type": "code",
   "execution_count": 3,
   "id": "fb2698bb",
   "metadata": {},
   "outputs": [],
   "source": [
    "# Instancia o ClonAlg para problemas binários\n",
    "clonalg = Clonalg(\n",
    "    problem_size=n_items,\n",
    "    N=100,\n",
    "    selection_size=5,\n",
    "    rate_clonal=50,\n",
    "    rate_hypermutation=0.05,\n",
    "    n_diversity_injection=50,\n",
    "    feature_type='binary-features',\n",
    "    seed=1234,\n",
    "    mode=\"max\"\n",
    ")\n",
    "\n",
    "clonalg.register('affinity_function', knapsack_fitness)"
   ]
  },
  {
   "cell_type": "markdown",
   "id": "9496fff7",
   "metadata": {},
   "source": [
    "## 5. Rodando a otimização"
   ]
  },
  {
   "cell_type": "code",
   "execution_count": 4,
   "id": "c81a166a",
   "metadata": {},
   "outputs": [
    {
     "name": "stdout",
     "output_type": "stream",
     "text": [
      "\n",
      "┌───────────┬─────────────────────────┬────────────────────┬─────────────────┐\n",
      "│ Iteration │   Best Affinity (max)   │   Worse Affinity   │   Stagnation    │\n",
      "├───────────┼─────────────────────────┼────────────────────┼─────────────────┤\n",
      "│     1     │              3187.000000│      -293377.000000│        0        │\n",
      "│     2     │              3694.000000│       -21193.000000│        0        │\n",
      "│     3     │              4028.000000│       -39791.000000│        0        │\n",
      "│     4     │              4128.000000│       -52823.000000│        0        │\n",
      "│     5     │              4151.000000│      -452463.000000│        0        │\n",
      "│     6     │              4303.000000│      -366778.000000│        0        │\n",
      "│     7     │              4303.000000│      -165470.000000│        1        │\n",
      "│     8     │              4421.000000│        -2885.000000│        0        │\n",
      "│     9     │              4421.000000│      -326252.000000│        1        │\n",
      "│    10     │              4422.000000│         1828.000000│        0        │\n",
      "│    11     │              4422.000000│      -241145.000000│        1        │\n",
      "│    12     │              4422.000000│       -93291.000000│        2        │\n",
      "│    13     │              4422.000000│      -424216.000000│        3        │\n",
      "│    14     │              4422.000000│      -240669.000000│        4        │\n",
      "│    15     │              4422.000000│       -39191.000000│        5        │\n",
      "└───────────┴─────────────────────────┴────────────────────┴─────────────────┘\n",
      "Total time: 0.148303 seconds\n",
      "Best cost: 4422\n"
     ]
    }
   ],
   "source": [
    "clonalg.optimize(100, 5)\n",
    "\n",
    "if clonalg.best_cost is not None:\n",
    "\tprint('Best cost:', abs(clonalg.best_cost))"
   ]
  },
  {
   "cell_type": "markdown",
   "id": "85e0f7e4",
   "metadata": {},
   "source": [
    "## 6. Resultado"
   ]
  },
  {
   "cell_type": "code",
   "execution_count": 5,
   "id": "6f8b630b",
   "metadata": {},
   "outputs": [
    {
     "name": "stdout",
     "output_type": "stream",
     "text": [
      "\n",
      "=============================================\n",
      "            Optimization Summary             \n",
      "=============================================\n",
      "Best cost      : 4422\n",
      "Best solution  : [False False False  True  True False  True  True  True  True  True  True\n",
      " False  True False False  True False False  True]\n",
      "Cost History per Iteration:\n",
      "\n",
      "┌────────────┬────────────────────────────┐\n",
      "│ Iteration  │            Cost            │\n",
      "├────────────┼────────────────────────────┤\n",
      "│          1 │                3187.000000 │\n",
      "│          2 │                3694.000000 │\n",
      "│          3 │                4028.000000 │\n",
      "│          4 │                4128.000000 │\n",
      "│          5 │                4151.000000 │\n",
      "│          6 │                4303.000000 │\n",
      "│          7 │                4303.000000 │\n",
      "│          8 │                4421.000000 │\n",
      "│          9 │                4421.000000 │\n",
      "│         10 │                4422.000000 │\n",
      "│         11 │                4422.000000 │\n",
      "│         12 │                4422.000000 │\n",
      "│         13 │                4422.000000 │\n",
      "│         14 │                4422.000000 │\n",
      "│         15 │                4422.000000 │\n",
      "└────────────┴────────────────────────────┘\n"
     ]
    }
   ],
   "source": [
    "print(clonalg.get_report())"
   ]
  },
  {
   "cell_type": "markdown",
   "id": "d51aad32",
   "metadata": {},
   "source": [
    "### 6.1 Evolução do melhor ao longo das gerações"
   ]
  },
  {
   "cell_type": "code",
   "execution_count": 6,
   "id": "0129ff2f",
   "metadata": {},
   "outputs": [
    {
     "data": {
      "image/png": "[encoded data removed]",
      "text/plain": [
       "<Figure size 800x500 with 1 Axes>"
      ]
     },
     "metadata": {},
     "output_type": "display_data"
    }
   ],
   "source": [
    "plt.figure(figsize=(8, 5))\n",
    "plt.plot(clonalg.cost_history, marker='o')\n",
    "plt.title('Evolução do Custo ao Longo das Interações')\n",
    "plt.xlabel('Interações')\n",
    "plt.ylabel('Afinidade Minimizada')\n",
    "plt.grid(True, linestyle='--', alpha=0.7)\n",
    "plt.show()"
   ]
  },
  {
   "cell_type": "markdown",
   "id": "02fba9b7",
   "metadata": {},
   "source": [
    "### 6.2 Comparação com Força Bruta\n",
    "\n",
    "O código a seguir implementa uma abordagem de força bruta. Ele funciona testando todas as combinações possíveis de inclusão ou exclusão de itens na mochila."
   ]
  },
  {
   "cell_type": "code",
   "execution_count": 7,
   "id": "a0b003cb",
   "metadata": {},
   "outputs": [
    {
     "name": "stdout",
     "output_type": "stream",
     "text": [
      "\n",
      "===== RESULTADOS =====\n",
      "\n",
      "Força bruta\n",
      "- Itens escolhidos : [3, 4, 6, 7, 8, 9, 10, 11, 13, 16, 19]\n",
      "- Quantidade itens : 11\n",
      "- Valor total      : 4422\n",
      "- Peso total       : 407\n",
      "\n",
      "Clonalg\n",
      "- Itens escolhidos : [3, 4, 6, 7, 8, 9, 10, 11, 13, 16, 19]\n",
      "- Quantidade itens : 11\n",
      "- Valor total      : 4422\n",
      "- Peso total       : 407\n"
     ]
    }
   ],
   "source": [
    "best_value = 0\n",
    "best_solution = None\n",
    "\n",
    "for solution in product([0,1], repeat=n_items):\n",
    "    solution = np.array(solution)\n",
    "    total_weight = np.sum(solution * weights)\n",
    "    total_value  = np.sum(solution * values)\n",
    "    \n",
    "    if total_weight <= capacity and total_value > best_value:\n",
    "        best_value = total_value\n",
    "        best_solution = solution\n",
    "\n",
    "itens_escolhidos = np.where(best_solution == 1)[0].tolist()\n",
    "qtd_itens_bruta = len(itens_escolhidos)\n",
    "peso_bruta = np.dot(best_solution, weights) # type: ignore\n",
    "\n",
    "# ==== Solução Clonalg ====\n",
    "clonalg_solution = np.array(clonalg.best_solution, dtype=int)\n",
    "itens_clonalg = np.where(clonalg_solution == 1)[0].tolist()\n",
    "qtd_itens_clonalg = len(itens_clonalg)\n",
    "peso_clonalg = np.dot(clonalg_solution, weights)\n",
    "\n",
    "# ==== Impressão dos resultados ====\n",
    "print(\"\\n===== RESULTADOS =====\\n\")\n",
    "print(\"Força bruta\")\n",
    "print(f\"- Itens escolhidos : {itens_escolhidos}\")\n",
    "print(f\"- Quantidade itens : {qtd_itens_bruta}\")\n",
    "print(f\"- Valor total      : {best_value}\")\n",
    "print(f\"- Peso total       : {peso_bruta}\")\n",
    "\n",
    "print(\"\\nClonalg\")\n",
    "print(f\"- Itens escolhidos : {itens_clonalg}\")\n",
    "print(f\"- Quantidade itens : {qtd_itens_clonalg}\")\n",
    "print(f\"- Valor total      : {clonalg.best_cost}\")\n",
    "print(f\"- Peso total       : {peso_clonalg}\")"
   ]
  }
 ],
 "metadata": {
  "kernelspec": {
   "display_name": ".venv",
   "language": "python",
   "name": "python3"
  },
  "language_info": {
   "codemirror_mode": {
    "name": "ipython",
    "version": 3
   },
   "file_extension": ".py",
   "mimetype": "text/x-python",
   "name": "python",
   "nbconvert_exporter": "python",
   "pygments_lexer": "ipython3",
   "version": "3.13.5"
  }
 },
 "nbformat": 4,
 "nbformat_minor": 5
}
